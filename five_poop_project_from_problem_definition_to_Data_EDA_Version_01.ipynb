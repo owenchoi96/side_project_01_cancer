{
  "nbformat": 4,
  "nbformat_minor": 0,
  "metadata": {
    "colab": {
      "provenance": []
    },
    "kernelspec": {
      "name": "python3",
      "display_name": "Python 3"
    },
    "language_info": {
      "name": "python"
    },
    "widgets": {
      "application/vnd.jupyter.widget-state+json": {
        "a33043ee5129483ebb209acd7fcf1c79": {
          "model_module": "@jupyter-widgets/controls",
          "model_name": "HBoxModel",
          "model_module_version": "1.5.0",
          "state": {
            "_dom_classes": [],
            "_model_module": "@jupyter-widgets/controls",
            "_model_module_version": "1.5.0",
            "_model_name": "HBoxModel",
            "_view_count": null,
            "_view_module": "@jupyter-widgets/controls",
            "_view_module_version": "1.5.0",
            "_view_name": "HBoxView",
            "box_style": "",
            "children": [
              "IPY_MODEL_64e9d208a32642a8b00c7bf494a3725d",
              "IPY_MODEL_d149f4e2e6714ba5b2bfb0324d78c369",
              "IPY_MODEL_c5fae7ae496f4bd8aef4041a3a70842c"
            ],
            "layout": "IPY_MODEL_374075f4bff045559647ad6c53d851e3"
          }
        },
        "64e9d208a32642a8b00c7bf494a3725d": {
          "model_module": "@jupyter-widgets/controls",
          "model_name": "HTMLModel",
          "model_module_version": "1.5.0",
          "state": {
            "_dom_classes": [],
            "_model_module": "@jupyter-widgets/controls",
            "_model_module_version": "1.5.0",
            "_model_name": "HTMLModel",
            "_view_count": null,
            "_view_module": "@jupyter-widgets/controls",
            "_view_module_version": "1.5.0",
            "_view_name": "HTMLView",
            "description": "",
            "description_tooltip": null,
            "layout": "IPY_MODEL_5fe9bd0480224fb3a78b423a58347bb0",
            "placeholder": "​",
            "style": "IPY_MODEL_303634a8b08c46c4a28f938900749217",
            "value": "100%"
          }
        },
        "d149f4e2e6714ba5b2bfb0324d78c369": {
          "model_module": "@jupyter-widgets/controls",
          "model_name": "FloatProgressModel",
          "model_module_version": "1.5.0",
          "state": {
            "_dom_classes": [],
            "_model_module": "@jupyter-widgets/controls",
            "_model_module_version": "1.5.0",
            "_model_name": "FloatProgressModel",
            "_view_count": null,
            "_view_module": "@jupyter-widgets/controls",
            "_view_module_version": "1.5.0",
            "_view_name": "ProgressView",
            "bar_style": "success",
            "description": "",
            "description_tooltip": null,
            "layout": "IPY_MODEL_f7f8249103c949f0a5b0650f118e0770",
            "max": 12,
            "min": 0,
            "orientation": "horizontal",
            "style": "IPY_MODEL_227e53ab6f1a4d39bef0d940e3cae489",
            "value": 12
          }
        },
        "c5fae7ae496f4bd8aef4041a3a70842c": {
          "model_module": "@jupyter-widgets/controls",
          "model_name": "HTMLModel",
          "model_module_version": "1.5.0",
          "state": {
            "_dom_classes": [],
            "_model_module": "@jupyter-widgets/controls",
            "_model_module_version": "1.5.0",
            "_model_name": "HTMLModel",
            "_view_count": null,
            "_view_module": "@jupyter-widgets/controls",
            "_view_module_version": "1.5.0",
            "_view_name": "HTMLView",
            "description": "",
            "description_tooltip": null,
            "layout": "IPY_MODEL_d7c72a4454dd47248af9fecf4924c26c",
            "placeholder": "​",
            "style": "IPY_MODEL_31ff5277bed94d76b15fa05ab65e0cc9",
            "value": " 12/12 [00:14&lt;00:00,  1.04s/it]"
          }
        },
        "374075f4bff045559647ad6c53d851e3": {
          "model_module": "@jupyter-widgets/base",
          "model_name": "LayoutModel",
          "model_module_version": "1.2.0",
          "state": {
            "_model_module": "@jupyter-widgets/base",
            "_model_module_version": "1.2.0",
            "_model_name": "LayoutModel",
            "_view_count": null,
            "_view_module": "@jupyter-widgets/base",
            "_view_module_version": "1.2.0",
            "_view_name": "LayoutView",
            "align_content": null,
            "align_items": null,
            "align_self": null,
            "border": null,
            "bottom": null,
            "display": null,
            "flex": null,
            "flex_flow": null,
            "grid_area": null,
            "grid_auto_columns": null,
            "grid_auto_flow": null,
            "grid_auto_rows": null,
            "grid_column": null,
            "grid_gap": null,
            "grid_row": null,
            "grid_template_areas": null,
            "grid_template_columns": null,
            "grid_template_rows": null,
            "height": null,
            "justify_content": null,
            "justify_items": null,
            "left": null,
            "margin": null,
            "max_height": null,
            "max_width": null,
            "min_height": null,
            "min_width": null,
            "object_fit": null,
            "object_position": null,
            "order": null,
            "overflow": null,
            "overflow_x": null,
            "overflow_y": null,
            "padding": null,
            "right": null,
            "top": null,
            "visibility": null,
            "width": null
          }
        },
        "5fe9bd0480224fb3a78b423a58347bb0": {
          "model_module": "@jupyter-widgets/base",
          "model_name": "LayoutModel",
          "model_module_version": "1.2.0",
          "state": {
            "_model_module": "@jupyter-widgets/base",
            "_model_module_version": "1.2.0",
            "_model_name": "LayoutModel",
            "_view_count": null,
            "_view_module": "@jupyter-widgets/base",
            "_view_module_version": "1.2.0",
            "_view_name": "LayoutView",
            "align_content": null,
            "align_items": null,
            "align_self": null,
            "border": null,
            "bottom": null,
            "display": null,
            "flex": null,
            "flex_flow": null,
            "grid_area": null,
            "grid_auto_columns": null,
            "grid_auto_flow": null,
            "grid_auto_rows": null,
            "grid_column": null,
            "grid_gap": null,
            "grid_row": null,
            "grid_template_areas": null,
            "grid_template_columns": null,
            "grid_template_rows": null,
            "height": null,
            "justify_content": null,
            "justify_items": null,
            "left": null,
            "margin": null,
            "max_height": null,
            "max_width": null,
            "min_height": null,
            "min_width": null,
            "object_fit": null,
            "object_position": null,
            "order": null,
            "overflow": null,
            "overflow_x": null,
            "overflow_y": null,
            "padding": null,
            "right": null,
            "top": null,
            "visibility": null,
            "width": null
          }
        },
        "303634a8b08c46c4a28f938900749217": {
          "model_module": "@jupyter-widgets/controls",
          "model_name": "DescriptionStyleModel",
          "model_module_version": "1.5.0",
          "state": {
            "_model_module": "@jupyter-widgets/controls",
            "_model_module_version": "1.5.0",
            "_model_name": "DescriptionStyleModel",
            "_view_count": null,
            "_view_module": "@jupyter-widgets/base",
            "_view_module_version": "1.2.0",
            "_view_name": "StyleView",
            "description_width": ""
          }
        },
        "f7f8249103c949f0a5b0650f118e0770": {
          "model_module": "@jupyter-widgets/base",
          "model_name": "LayoutModel",
          "model_module_version": "1.2.0",
          "state": {
            "_model_module": "@jupyter-widgets/base",
            "_model_module_version": "1.2.0",
            "_model_name": "LayoutModel",
            "_view_count": null,
            "_view_module": "@jupyter-widgets/base",
            "_view_module_version": "1.2.0",
            "_view_name": "LayoutView",
            "align_content": null,
            "align_items": null,
            "align_self": null,
            "border": null,
            "bottom": null,
            "display": null,
            "flex": null,
            "flex_flow": null,
            "grid_area": null,
            "grid_auto_columns": null,
            "grid_auto_flow": null,
            "grid_auto_rows": null,
            "grid_column": null,
            "grid_gap": null,
            "grid_row": null,
            "grid_template_areas": null,
            "grid_template_columns": null,
            "grid_template_rows": null,
            "height": null,
            "justify_content": null,
            "justify_items": null,
            "left": null,
            "margin": null,
            "max_height": null,
            "max_width": null,
            "min_height": null,
            "min_width": null,
            "object_fit": null,
            "object_position": null,
            "order": null,
            "overflow": null,
            "overflow_x": null,
            "overflow_y": null,
            "padding": null,
            "right": null,
            "top": null,
            "visibility": null,
            "width": null
          }
        },
        "227e53ab6f1a4d39bef0d940e3cae489": {
          "model_module": "@jupyter-widgets/controls",
          "model_name": "ProgressStyleModel",
          "model_module_version": "1.5.0",
          "state": {
            "_model_module": "@jupyter-widgets/controls",
            "_model_module_version": "1.5.0",
            "_model_name": "ProgressStyleModel",
            "_view_count": null,
            "_view_module": "@jupyter-widgets/base",
            "_view_module_version": "1.2.0",
            "_view_name": "StyleView",
            "bar_color": null,
            "description_width": ""
          }
        },
        "d7c72a4454dd47248af9fecf4924c26c": {
          "model_module": "@jupyter-widgets/base",
          "model_name": "LayoutModel",
          "model_module_version": "1.2.0",
          "state": {
            "_model_module": "@jupyter-widgets/base",
            "_model_module_version": "1.2.0",
            "_model_name": "LayoutModel",
            "_view_count": null,
            "_view_module": "@jupyter-widgets/base",
            "_view_module_version": "1.2.0",
            "_view_name": "LayoutView",
            "align_content": null,
            "align_items": null,
            "align_self": null,
            "border": null,
            "bottom": null,
            "display": null,
            "flex": null,
            "flex_flow": null,
            "grid_area": null,
            "grid_auto_columns": null,
            "grid_auto_flow": null,
            "grid_auto_rows": null,
            "grid_column": null,
            "grid_gap": null,
            "grid_row": null,
            "grid_template_areas": null,
            "grid_template_columns": null,
            "grid_template_rows": null,
            "height": null,
            "justify_content": null,
            "justify_items": null,
            "left": null,
            "margin": null,
            "max_height": null,
            "max_width": null,
            "min_height": null,
            "min_width": null,
            "object_fit": null,
            "object_position": null,
            "order": null,
            "overflow": null,
            "overflow_x": null,
            "overflow_y": null,
            "padding": null,
            "right": null,
            "top": null,
            "visibility": null,
            "width": null
          }
        },
        "31ff5277bed94d76b15fa05ab65e0cc9": {
          "model_module": "@jupyter-widgets/controls",
          "model_name": "DescriptionStyleModel",
          "model_module_version": "1.5.0",
          "state": {
            "_model_module": "@jupyter-widgets/controls",
            "_model_module_version": "1.5.0",
            "_model_name": "DescriptionStyleModel",
            "_view_count": null,
            "_view_module": "@jupyter-widgets/base",
            "_view_module_version": "1.2.0",
            "_view_name": "StyleView",
            "description_width": ""
          }
        },
        "dec712037a514899ad192f2b3e5eae05": {
          "model_module": "@jupyter-widgets/controls",
          "model_name": "HBoxModel",
          "model_module_version": "1.5.0",
          "state": {
            "_dom_classes": [],
            "_model_module": "@jupyter-widgets/controls",
            "_model_module_version": "1.5.0",
            "_model_name": "HBoxModel",
            "_view_count": null,
            "_view_module": "@jupyter-widgets/controls",
            "_view_module_version": "1.5.0",
            "_view_name": "HBoxView",
            "box_style": "",
            "children": [
              "IPY_MODEL_d5443b483ca542908dbd6e2f29bd6137",
              "IPY_MODEL_9d6a5df2ea544ab896add7b298972316",
              "IPY_MODEL_7745f9017d944c12aeb15005dc4a9a05"
            ],
            "layout": "IPY_MODEL_a4e43e86f0944e7e8b64905a1fab4128"
          }
        },
        "d5443b483ca542908dbd6e2f29bd6137": {
          "model_module": "@jupyter-widgets/controls",
          "model_name": "HTMLModel",
          "model_module_version": "1.5.0",
          "state": {
            "_dom_classes": [],
            "_model_module": "@jupyter-widgets/controls",
            "_model_module_version": "1.5.0",
            "_model_name": "HTMLModel",
            "_view_count": null,
            "_view_module": "@jupyter-widgets/controls",
            "_view_module_version": "1.5.0",
            "_view_name": "HTMLView",
            "description": "",
            "description_tooltip": null,
            "layout": "IPY_MODEL_a9b70ad56ace41878682134c770f67a9",
            "placeholder": "​",
            "style": "IPY_MODEL_38f32f16456446f58fc3c63eebd182e5",
            "value": "100%"
          }
        },
        "9d6a5df2ea544ab896add7b298972316": {
          "model_module": "@jupyter-widgets/controls",
          "model_name": "FloatProgressModel",
          "model_module_version": "1.5.0",
          "state": {
            "_dom_classes": [],
            "_model_module": "@jupyter-widgets/controls",
            "_model_module_version": "1.5.0",
            "_model_name": "FloatProgressModel",
            "_view_count": null,
            "_view_module": "@jupyter-widgets/controls",
            "_view_module_version": "1.5.0",
            "_view_name": "ProgressView",
            "bar_style": "success",
            "description": "",
            "description_tooltip": null,
            "layout": "IPY_MODEL_07aa0d9b529d42a3b38e386c85f7255c",
            "max": 3,
            "min": 0,
            "orientation": "horizontal",
            "style": "IPY_MODEL_15695d856095412198ab2634c726a7ed",
            "value": 3
          }
        },
        "7745f9017d944c12aeb15005dc4a9a05": {
          "model_module": "@jupyter-widgets/controls",
          "model_name": "HTMLModel",
          "model_module_version": "1.5.0",
          "state": {
            "_dom_classes": [],
            "_model_module": "@jupyter-widgets/controls",
            "_model_module_version": "1.5.0",
            "_model_name": "HTMLModel",
            "_view_count": null,
            "_view_module": "@jupyter-widgets/controls",
            "_view_module_version": "1.5.0",
            "_view_name": "HTMLView",
            "description": "",
            "description_tooltip": null,
            "layout": "IPY_MODEL_107b3fd5a12148349c4210b3a0331f6c",
            "placeholder": "​",
            "style": "IPY_MODEL_7c58c5d8a2ac44659b7f9be8037afc3e",
            "value": " 3/3 [00:04&lt;00:00,  1.49s/it]"
          }
        },
        "a4e43e86f0944e7e8b64905a1fab4128": {
          "model_module": "@jupyter-widgets/base",
          "model_name": "LayoutModel",
          "model_module_version": "1.2.0",
          "state": {
            "_model_module": "@jupyter-widgets/base",
            "_model_module_version": "1.2.0",
            "_model_name": "LayoutModel",
            "_view_count": null,
            "_view_module": "@jupyter-widgets/base",
            "_view_module_version": "1.2.0",
            "_view_name": "LayoutView",
            "align_content": null,
            "align_items": null,
            "align_self": null,
            "border": null,
            "bottom": null,
            "display": null,
            "flex": null,
            "flex_flow": null,
            "grid_area": null,
            "grid_auto_columns": null,
            "grid_auto_flow": null,
            "grid_auto_rows": null,
            "grid_column": null,
            "grid_gap": null,
            "grid_row": null,
            "grid_template_areas": null,
            "grid_template_columns": null,
            "grid_template_rows": null,
            "height": null,
            "justify_content": null,
            "justify_items": null,
            "left": null,
            "margin": null,
            "max_height": null,
            "max_width": null,
            "min_height": null,
            "min_width": null,
            "object_fit": null,
            "object_position": null,
            "order": null,
            "overflow": null,
            "overflow_x": null,
            "overflow_y": null,
            "padding": null,
            "right": null,
            "top": null,
            "visibility": null,
            "width": null
          }
        },
        "a9b70ad56ace41878682134c770f67a9": {
          "model_module": "@jupyter-widgets/base",
          "model_name": "LayoutModel",
          "model_module_version": "1.2.0",
          "state": {
            "_model_module": "@jupyter-widgets/base",
            "_model_module_version": "1.2.0",
            "_model_name": "LayoutModel",
            "_view_count": null,
            "_view_module": "@jupyter-widgets/base",
            "_view_module_version": "1.2.0",
            "_view_name": "LayoutView",
            "align_content": null,
            "align_items": null,
            "align_self": null,
            "border": null,
            "bottom": null,
            "display": null,
            "flex": null,
            "flex_flow": null,
            "grid_area": null,
            "grid_auto_columns": null,
            "grid_auto_flow": null,
            "grid_auto_rows": null,
            "grid_column": null,
            "grid_gap": null,
            "grid_row": null,
            "grid_template_areas": null,
            "grid_template_columns": null,
            "grid_template_rows": null,
            "height": null,
            "justify_content": null,
            "justify_items": null,
            "left": null,
            "margin": null,
            "max_height": null,
            "max_width": null,
            "min_height": null,
            "min_width": null,
            "object_fit": null,
            "object_position": null,
            "order": null,
            "overflow": null,
            "overflow_x": null,
            "overflow_y": null,
            "padding": null,
            "right": null,
            "top": null,
            "visibility": null,
            "width": null
          }
        },
        "38f32f16456446f58fc3c63eebd182e5": {
          "model_module": "@jupyter-widgets/controls",
          "model_name": "DescriptionStyleModel",
          "model_module_version": "1.5.0",
          "state": {
            "_model_module": "@jupyter-widgets/controls",
            "_model_module_version": "1.5.0",
            "_model_name": "DescriptionStyleModel",
            "_view_count": null,
            "_view_module": "@jupyter-widgets/base",
            "_view_module_version": "1.2.0",
            "_view_name": "StyleView",
            "description_width": ""
          }
        },
        "07aa0d9b529d42a3b38e386c85f7255c": {
          "model_module": "@jupyter-widgets/base",
          "model_name": "LayoutModel",
          "model_module_version": "1.2.0",
          "state": {
            "_model_module": "@jupyter-widgets/base",
            "_model_module_version": "1.2.0",
            "_model_name": "LayoutModel",
            "_view_count": null,
            "_view_module": "@jupyter-widgets/base",
            "_view_module_version": "1.2.0",
            "_view_name": "LayoutView",
            "align_content": null,
            "align_items": null,
            "align_self": null,
            "border": null,
            "bottom": null,
            "display": null,
            "flex": null,
            "flex_flow": null,
            "grid_area": null,
            "grid_auto_columns": null,
            "grid_auto_flow": null,
            "grid_auto_rows": null,
            "grid_column": null,
            "grid_gap": null,
            "grid_row": null,
            "grid_template_areas": null,
            "grid_template_columns": null,
            "grid_template_rows": null,
            "height": null,
            "justify_content": null,
            "justify_items": null,
            "left": null,
            "margin": null,
            "max_height": null,
            "max_width": null,
            "min_height": null,
            "min_width": null,
            "object_fit": null,
            "object_position": null,
            "order": null,
            "overflow": null,
            "overflow_x": null,
            "overflow_y": null,
            "padding": null,
            "right": null,
            "top": null,
            "visibility": null,
            "width": null
          }
        },
        "15695d856095412198ab2634c726a7ed": {
          "model_module": "@jupyter-widgets/controls",
          "model_name": "ProgressStyleModel",
          "model_module_version": "1.5.0",
          "state": {
            "_model_module": "@jupyter-widgets/controls",
            "_model_module_version": "1.5.0",
            "_model_name": "ProgressStyleModel",
            "_view_count": null,
            "_view_module": "@jupyter-widgets/base",
            "_view_module_version": "1.2.0",
            "_view_name": "StyleView",
            "bar_color": null,
            "description_width": ""
          }
        },
        "107b3fd5a12148349c4210b3a0331f6c": {
          "model_module": "@jupyter-widgets/base",
          "model_name": "LayoutModel",
          "model_module_version": "1.2.0",
          "state": {
            "_model_module": "@jupyter-widgets/base",
            "_model_module_version": "1.2.0",
            "_model_name": "LayoutModel",
            "_view_count": null,
            "_view_module": "@jupyter-widgets/base",
            "_view_module_version": "1.2.0",
            "_view_name": "LayoutView",
            "align_content": null,
            "align_items": null,
            "align_self": null,
            "border": null,
            "bottom": null,
            "display": null,
            "flex": null,
            "flex_flow": null,
            "grid_area": null,
            "grid_auto_columns": null,
            "grid_auto_flow": null,
            "grid_auto_rows": null,
            "grid_column": null,
            "grid_gap": null,
            "grid_row": null,
            "grid_template_areas": null,
            "grid_template_columns": null,
            "grid_template_rows": null,
            "height": null,
            "justify_content": null,
            "justify_items": null,
            "left": null,
            "margin": null,
            "max_height": null,
            "max_width": null,
            "min_height": null,
            "min_width": null,
            "object_fit": null,
            "object_position": null,
            "order": null,
            "overflow": null,
            "overflow_x": null,
            "overflow_y": null,
            "padding": null,
            "right": null,
            "top": null,
            "visibility": null,
            "width": null
          }
        },
        "7c58c5d8a2ac44659b7f9be8037afc3e": {
          "model_module": "@jupyter-widgets/controls",
          "model_name": "DescriptionStyleModel",
          "model_module_version": "1.5.0",
          "state": {
            "_model_module": "@jupyter-widgets/controls",
            "_model_module_version": "1.5.0",
            "_model_name": "DescriptionStyleModel",
            "_view_count": null,
            "_view_module": "@jupyter-widgets/base",
            "_view_module_version": "1.2.0",
            "_view_name": "StyleView",
            "description_width": ""
          }
        },
        "ace3eb2fc75a40bcb797b7beea6ee05e": {
          "model_module": "@jupyter-widgets/controls",
          "model_name": "HBoxModel",
          "model_module_version": "1.5.0",
          "state": {
            "_dom_classes": [],
            "_model_module": "@jupyter-widgets/controls",
            "_model_module_version": "1.5.0",
            "_model_name": "HBoxModel",
            "_view_count": null,
            "_view_module": "@jupyter-widgets/controls",
            "_view_module_version": "1.5.0",
            "_view_name": "HBoxView",
            "box_style": "",
            "children": [
              "IPY_MODEL_30716b1b57cd44e2a76c6327e8b2abea",
              "IPY_MODEL_6f9b3f4ee8764dfb988ec2bcc5d409f1",
              "IPY_MODEL_91f2f25829c4400c98588bd0e49f7d81"
            ],
            "layout": "IPY_MODEL_c260d3a5506e4aee963802b593aa267a"
          }
        },
        "30716b1b57cd44e2a76c6327e8b2abea": {
          "model_module": "@jupyter-widgets/controls",
          "model_name": "HTMLModel",
          "model_module_version": "1.5.0",
          "state": {
            "_dom_classes": [],
            "_model_module": "@jupyter-widgets/controls",
            "_model_module_version": "1.5.0",
            "_model_name": "HTMLModel",
            "_view_count": null,
            "_view_module": "@jupyter-widgets/controls",
            "_view_module_version": "1.5.0",
            "_view_name": "HTMLView",
            "description": "",
            "description_tooltip": null,
            "layout": "IPY_MODEL_89e4c8ceb9c441cdaed975aa326391c8",
            "placeholder": "​",
            "style": "IPY_MODEL_e895bdcd3b594f8a864f08181ab16bc6",
            "value": "100%"
          }
        },
        "6f9b3f4ee8764dfb988ec2bcc5d409f1": {
          "model_module": "@jupyter-widgets/controls",
          "model_name": "FloatProgressModel",
          "model_module_version": "1.5.0",
          "state": {
            "_dom_classes": [],
            "_model_module": "@jupyter-widgets/controls",
            "_model_module_version": "1.5.0",
            "_model_name": "FloatProgressModel",
            "_view_count": null,
            "_view_module": "@jupyter-widgets/controls",
            "_view_module_version": "1.5.0",
            "_view_name": "ProgressView",
            "bar_style": "success",
            "description": "",
            "description_tooltip": null,
            "layout": "IPY_MODEL_779345ef26e14bc4b2c179128fdd1fc3",
            "max": 40,
            "min": 0,
            "orientation": "horizontal",
            "style": "IPY_MODEL_69e948c081c34fb7ab58d79d36582b68",
            "value": 40
          }
        },
        "91f2f25829c4400c98588bd0e49f7d81": {
          "model_module": "@jupyter-widgets/controls",
          "model_name": "HTMLModel",
          "model_module_version": "1.5.0",
          "state": {
            "_dom_classes": [],
            "_model_module": "@jupyter-widgets/controls",
            "_model_module_version": "1.5.0",
            "_model_name": "HTMLModel",
            "_view_count": null,
            "_view_module": "@jupyter-widgets/controls",
            "_view_module_version": "1.5.0",
            "_view_name": "HTMLView",
            "description": "",
            "description_tooltip": null,
            "layout": "IPY_MODEL_6932b56b246d4278886bc0c6865b5601",
            "placeholder": "​",
            "style": "IPY_MODEL_0194c2ddbaba4868b0cf1f9dadb69fcc",
            "value": " 40/40 [00:48&lt;00:00,  1.03it/s]"
          }
        },
        "c260d3a5506e4aee963802b593aa267a": {
          "model_module": "@jupyter-widgets/base",
          "model_name": "LayoutModel",
          "model_module_version": "1.2.0",
          "state": {
            "_model_module": "@jupyter-widgets/base",
            "_model_module_version": "1.2.0",
            "_model_name": "LayoutModel",
            "_view_count": null,
            "_view_module": "@jupyter-widgets/base",
            "_view_module_version": "1.2.0",
            "_view_name": "LayoutView",
            "align_content": null,
            "align_items": null,
            "align_self": null,
            "border": null,
            "bottom": null,
            "display": null,
            "flex": null,
            "flex_flow": null,
            "grid_area": null,
            "grid_auto_columns": null,
            "grid_auto_flow": null,
            "grid_auto_rows": null,
            "grid_column": null,
            "grid_gap": null,
            "grid_row": null,
            "grid_template_areas": null,
            "grid_template_columns": null,
            "grid_template_rows": null,
            "height": null,
            "justify_content": null,
            "justify_items": null,
            "left": null,
            "margin": null,
            "max_height": null,
            "max_width": null,
            "min_height": null,
            "min_width": null,
            "object_fit": null,
            "object_position": null,
            "order": null,
            "overflow": null,
            "overflow_x": null,
            "overflow_y": null,
            "padding": null,
            "right": null,
            "top": null,
            "visibility": null,
            "width": null
          }
        },
        "89e4c8ceb9c441cdaed975aa326391c8": {
          "model_module": "@jupyter-widgets/base",
          "model_name": "LayoutModel",
          "model_module_version": "1.2.0",
          "state": {
            "_model_module": "@jupyter-widgets/base",
            "_model_module_version": "1.2.0",
            "_model_name": "LayoutModel",
            "_view_count": null,
            "_view_module": "@jupyter-widgets/base",
            "_view_module_version": "1.2.0",
            "_view_name": "LayoutView",
            "align_content": null,
            "align_items": null,
            "align_self": null,
            "border": null,
            "bottom": null,
            "display": null,
            "flex": null,
            "flex_flow": null,
            "grid_area": null,
            "grid_auto_columns": null,
            "grid_auto_flow": null,
            "grid_auto_rows": null,
            "grid_column": null,
            "grid_gap": null,
            "grid_row": null,
            "grid_template_areas": null,
            "grid_template_columns": null,
            "grid_template_rows": null,
            "height": null,
            "justify_content": null,
            "justify_items": null,
            "left": null,
            "margin": null,
            "max_height": null,
            "max_width": null,
            "min_height": null,
            "min_width": null,
            "object_fit": null,
            "object_position": null,
            "order": null,
            "overflow": null,
            "overflow_x": null,
            "overflow_y": null,
            "padding": null,
            "right": null,
            "top": null,
            "visibility": null,
            "width": null
          }
        },
        "e895bdcd3b594f8a864f08181ab16bc6": {
          "model_module": "@jupyter-widgets/controls",
          "model_name": "DescriptionStyleModel",
          "model_module_version": "1.5.0",
          "state": {
            "_model_module": "@jupyter-widgets/controls",
            "_model_module_version": "1.5.0",
            "_model_name": "DescriptionStyleModel",
            "_view_count": null,
            "_view_module": "@jupyter-widgets/base",
            "_view_module_version": "1.2.0",
            "_view_name": "StyleView",
            "description_width": ""
          }
        },
        "779345ef26e14bc4b2c179128fdd1fc3": {
          "model_module": "@jupyter-widgets/base",
          "model_name": "LayoutModel",
          "model_module_version": "1.2.0",
          "state": {
            "_model_module": "@jupyter-widgets/base",
            "_model_module_version": "1.2.0",
            "_model_name": "LayoutModel",
            "_view_count": null,
            "_view_module": "@jupyter-widgets/base",
            "_view_module_version": "1.2.0",
            "_view_name": "LayoutView",
            "align_content": null,
            "align_items": null,
            "align_self": null,
            "border": null,
            "bottom": null,
            "display": null,
            "flex": null,
            "flex_flow": null,
            "grid_area": null,
            "grid_auto_columns": null,
            "grid_auto_flow": null,
            "grid_auto_rows": null,
            "grid_column": null,
            "grid_gap": null,
            "grid_row": null,
            "grid_template_areas": null,
            "grid_template_columns": null,
            "grid_template_rows": null,
            "height": null,
            "justify_content": null,
            "justify_items": null,
            "left": null,
            "margin": null,
            "max_height": null,
            "max_width": null,
            "min_height": null,
            "min_width": null,
            "object_fit": null,
            "object_position": null,
            "order": null,
            "overflow": null,
            "overflow_x": null,
            "overflow_y": null,
            "padding": null,
            "right": null,
            "top": null,
            "visibility": null,
            "width": null
          }
        },
        "69e948c081c34fb7ab58d79d36582b68": {
          "model_module": "@jupyter-widgets/controls",
          "model_name": "ProgressStyleModel",
          "model_module_version": "1.5.0",
          "state": {
            "_model_module": "@jupyter-widgets/controls",
            "_model_module_version": "1.5.0",
            "_model_name": "ProgressStyleModel",
            "_view_count": null,
            "_view_module": "@jupyter-widgets/base",
            "_view_module_version": "1.2.0",
            "_view_name": "StyleView",
            "bar_color": null,
            "description_width": ""
          }
        },
        "6932b56b246d4278886bc0c6865b5601": {
          "model_module": "@jupyter-widgets/base",
          "model_name": "LayoutModel",
          "model_module_version": "1.2.0",
          "state": {
            "_model_module": "@jupyter-widgets/base",
            "_model_module_version": "1.2.0",
            "_model_name": "LayoutModel",
            "_view_count": null,
            "_view_module": "@jupyter-widgets/base",
            "_view_module_version": "1.2.0",
            "_view_name": "LayoutView",
            "align_content": null,
            "align_items": null,
            "align_self": null,
            "border": null,
            "bottom": null,
            "display": null,
            "flex": null,
            "flex_flow": null,
            "grid_area": null,
            "grid_auto_columns": null,
            "grid_auto_flow": null,
            "grid_auto_rows": null,
            "grid_column": null,
            "grid_gap": null,
            "grid_row": null,
            "grid_template_areas": null,
            "grid_template_columns": null,
            "grid_template_rows": null,
            "height": null,
            "justify_content": null,
            "justify_items": null,
            "left": null,
            "margin": null,
            "max_height": null,
            "max_width": null,
            "min_height": null,
            "min_width": null,
            "object_fit": null,
            "object_position": null,
            "order": null,
            "overflow": null,
            "overflow_x": null,
            "overflow_y": null,
            "padding": null,
            "right": null,
            "top": null,
            "visibility": null,
            "width": null
          }
        },
        "0194c2ddbaba4868b0cf1f9dadb69fcc": {
          "model_module": "@jupyter-widgets/controls",
          "model_name": "DescriptionStyleModel",
          "model_module_version": "1.5.0",
          "state": {
            "_model_module": "@jupyter-widgets/controls",
            "_model_module_version": "1.5.0",
            "_model_name": "DescriptionStyleModel",
            "_view_count": null,
            "_view_module": "@jupyter-widgets/base",
            "_view_module_version": "1.2.0",
            "_view_name": "StyleView",
            "description_width": ""
          }
        }
      }
    }
  },
  "cells": [
    {
      "cell_type": "markdown",
      "source": [
        "### Problem Definition"
      ],
      "metadata": {
        "id": "gGBSXiYNqU18"
      }
    },
    {
      "cell_type": "markdown",
      "source": [
        "    <sheet name>\n",
        "    : patient unique id\n",
        "\n",
        "        * Ad : adenoma (precursor of a cancer)\n",
        "        * Sl :\n",
        "        * CRC : colorectal cancer (colorectal : 대장)\n",
        "\n",
        "    <data explanation>\n",
        "\n",
        "    환자마다 갖고 있는 유전자 변이가 다름.\n",
        "    이에 따라 암세포가 살기 위해서 필요한 물질에 차이가 있음.\n",
        "\n",
        "    그래서 내가 필요한 것은,\n",
        "    환자가 어떤 유전자 변이를 갖고 있을 때, 특정 물질에 대한 의존도를 예측하는 모델\n",
        "\n",
        "    내가 갖고 있는 것\n",
        "    1. 환자의 유전자 변이 정보\n",
        "    2. 특정 물질에 대한 의존도\n",
        "\n",
        "    <goal>\n",
        "\n",
        "    새로운 샘플의 정보를 넣었을 때, 그 암이 물질에 대한 의존도가 어느정도인지"
      ],
      "metadata": {
        "id": "XsObrR_wpnay"
      }
    },
    {
      "cell_type": "code",
      "source": [
        "#\n",
        "\n",
        "# Ad : adenoma (precursor of a cancer)\n",
        "# Sl :\n",
        "# CRC : colorectal cancer (colorectal : 대장)\n",
        "\n",
        "\n",
        "# 환자마다 갖고 있는 유전자 변이가 다름.\n",
        "# 이에 따라 암세포가 살기 위해서 필요한 물질에 차이가 있음.\n",
        "\n",
        "''' 그래서 내가 필요한 것은,\n",
        " 환자가 어떤 유전자 변이를 갖고 있을 때, 특정 물질에 대한 의존도를 예측하는 모델\n",
        "\n",
        " 내가 갖고 있는 것\n",
        "  1. 환자의 유전자 변이 정보\n",
        "  2. 특정 물질에 대한 의존도\n",
        "\n",
        " > 새로운 샘플의 정보를 넣었을 때, 그 암이 물질에 대한 의존도가 어느정도인지\n",
        "'''"
      ],
      "metadata": {
        "id": "DreI8RBHq4zM"
      },
      "execution_count": null,
      "outputs": []
    },
    {
      "cell_type": "code",
      "source": [
        "'''\n",
        " gene symbol : 짧게 쓴 거 (변수 아님)\n",
        " gene name : 길게 쓴 거 (변수 아님)\n",
        " effect : DNA에 문제가 생기는 형태 (변수일지 아닐지 모름)\n",
        " impact : 얼마나 세니? (변수이겠지)\n",
        " codon change : DNA가 어떻게 바꼈니? (아마 변수 아님)\n",
        " amino acid : DNA가 어떻게 바꼈니? (아마 변수 아님)\n",
        " transcript : 만들어지는 단백질 정보 (변수 아님)\n",
        "\n",
        " 여기부터 다 모름, 공부할게\n",
        " rsID :\n",
        " HapMap_J :\n",
        "\n",
        "'''"
      ],
      "metadata": {
        "id": "JeeX46Y3q66B"
      },
      "execution_count": null,
      "outputs": []
    },
    {
      "cell_type": "markdown",
      "source": [
        "### Data Info Check"
      ],
      "metadata": {
        "id": "1XReGqSZqdD0"
      }
    },
    {
      "cell_type": "code",
      "source": [
        "from google.colab import drive\n",
        "drive.mount('/content/drive')"
      ],
      "metadata": {
        "colab": {
          "base_uri": "https://localhost:8080/"
        },
        "id": "4wQxqNIGYm2f",
        "outputId": "4903a91a-b91a-4af0-898b-fd3b29374880"
      },
      "execution_count": 1,
      "outputs": [
        {
          "output_type": "stream",
          "name": "stdout",
          "text": [
            "Mounted at /content/drive\n"
          ]
        }
      ]
    },
    {
      "cell_type": "code",
      "source": [
        "# data path\n",
        "data_path = '/content/drive/MyDrive/A Colorectal Tumor Organoid Library Demonstrates Progressive Loss of Niche Factor Requirements during Tumorigenesis_supple.xlsx'\n",
        "\n",
        "# library\n",
        "import warnings; warnings.filterwarnings('ignore')\n",
        "import pandas as pd\n",
        "import openpyxl\n",
        "import re\n",
        "\n",
        "import matplotlib.pyplot as plt\n",
        "import seaborn as sns\n",
        "\n",
        "%matplotlib inline"
      ],
      "metadata": {
        "id": "QZcARrJhZHBh"
      },
      "execution_count": 36,
      "outputs": []
    },
    {
      "cell_type": "code",
      "source": [
        "# loading excel sheets --> takes some time to load\n",
        "wb = openpyxl.load_workbook(data_path)"
      ],
      "metadata": {
        "id": "c-U5b76wZEpj"
      },
      "execution_count": null,
      "outputs": []
    },
    {
      "cell_type": "markdown",
      "source": [
        "> label and more columns added"
      ],
      "metadata": {
        "id": "z5KxlJwVBSYR"
      }
    },
    {
      "cell_type": "code",
      "source": [],
      "metadata": {
        "id": "8qRzI8GuBVYA"
      },
      "execution_count": null,
      "outputs": []
    },
    {
      "cell_type": "markdown",
      "source": [
        "#### meaning of sheet names"
      ],
      "metadata": {
        "id": "Gfg1MZHyqner"
      }
    },
    {
      "cell_type": "code",
      "source": [
        "# meaning: number of patients\n",
        "patient_list = wb.sheetnames\n",
        "len(patient_list)"
      ],
      "metadata": {
        "colab": {
          "base_uri": "https://localhost:8080/"
        },
        "id": "hLadDJu3eTO5",
        "outputId": "67397754-379e-4908-a86f-ab47098bd0be"
      },
      "execution_count": 20,
      "outputs": [
        {
          "output_type": "execute_result",
          "data": {
            "text/plain": [
              "55"
            ]
          },
          "metadata": {},
          "execution_count": 20
        }
      ]
    },
    {
      "cell_type": "code",
      "source": [
        "print(patient_list)"
      ],
      "metadata": {
        "colab": {
          "base_uri": "https://localhost:8080/"
        },
        "id": "5Aq3899Est6F",
        "outputId": "e0e8e2d4-1afd-4fdf-c9c5-dd5c208f24f9"
      },
      "execution_count": 23,
      "outputs": [
        {
          "output_type": "stream",
          "name": "stdout",
          "text": [
            "['Ad1', 'Ad2', 'Ad3a', 'Ad3b', 'Ad4a', 'Ad4b', 'Ad5', 'Ad6', 'Ad7', 'Ad8', 'Ad9', 'Ad10', 'SL1a', 'SL1b', 'SL2', 'CRC1a', 'CRC1b', 'CRC2', 'CRC3', 'CRC4', 'CRC5', 'CRC6', 'CRC7', 'CRC8', 'CRC9', 'CRC10', 'CRC11', 'CRC12', 'CRC13', 'CRC14', 'CRC15', 'CRC16', 'CRC17a', 'CRC17b', 'CRC18', 'CRC19', 'CRC20', 'CRC21', 'CRC22', 'CRC23a', 'CRC23b', 'CRC23c', 'CRC24a', 'CRC24b', 'CRC24c', 'CRC25a', 'CRC25b', 'CRC25c', 'CRC26a', 'CRC26b', 'CRC27', 'CRC28', 'CRC29', 'CRC30', 'CRC31']\n"
          ]
        }
      ]
    },
    {
      "cell_type": "markdown",
      "source": [
        "##### >>>> decided to work with reduced columns <<<<"
      ],
      "metadata": {
        "id": "FwYTEo3m0ISV"
      }
    },
    {
      "cell_type": "code",
      "source": [
        "# too many unique columns\n",
        "# --> reduced the number of columns\n",
        "\n",
        "\n",
        "reduced_column_list = ['APC', 'CTNNB1','TCF7L2','FAM123B','SOX9','RNF43',\n",
        "                       'KRAS','NRAS','BRAF','PIK3CA','TGFR2','ACVR2A','SMAD1',\n",
        "                       'SMAD3','SMAD4','TP53','FBXW7','MLH1']\n",
        "\n",
        "# number of reduced columns\n",
        "len(reduced_column_list)"
      ],
      "metadata": {
        "colab": {
          "base_uri": "https://localhost:8080/"
        },
        "id": "plDCzZ790Mku",
        "outputId": "cccdbac9-4747-4e98-bdb0-4b788cad07a8"
      },
      "execution_count": 53,
      "outputs": [
        {
          "output_type": "execute_result",
          "data": {
            "text/plain": [
              "18"
            ]
          },
          "metadata": {},
          "execution_count": 53
        }
      ]
    },
    {
      "cell_type": "markdown",
      "source": [
        "#### concating dataframes"
      ],
      "metadata": {
        "id": "DfVxb8NcryW-"
      }
    },
    {
      "cell_type": "code",
      "source": [
        "Ad_list = [patient for patient in patient_list if patient.startswith('Ad')] # Ad patient list\n",
        "SL_list = [patient for patient in patient_list if patient.startswith('SL')] # SL patient list\n",
        "CRC_list = [patient for patient in patient_list if patient.startswith('CRC')] # CRC patient list\n",
        "\n",
        "print(Ad_list)\n",
        "print(SL_list)\n",
        "print(CRC_list)"
      ],
      "metadata": {
        "colab": {
          "base_uri": "https://localhost:8080/"
        },
        "id": "4ThK9ziUs58E",
        "outputId": "c49a6ab3-220e-4651-9eb5-5c69386913ab"
      },
      "execution_count": 59,
      "outputs": [
        {
          "output_type": "stream",
          "name": "stdout",
          "text": [
            "['Ad1', 'Ad2', 'Ad3a', 'Ad3b', 'Ad4a', 'Ad4b', 'Ad5', 'Ad6', 'Ad7', 'Ad8', 'Ad9', 'Ad10']\n",
            "['SL1a', 'SL1b', 'SL2']\n",
            "['CRC1a', 'CRC1b', 'CRC2', 'CRC3', 'CRC4', 'CRC5', 'CRC6', 'CRC7', 'CRC8', 'CRC9', 'CRC10', 'CRC11', 'CRC12', 'CRC13', 'CRC14', 'CRC15', 'CRC16', 'CRC17a', 'CRC17b', 'CRC18', 'CRC19', 'CRC20', 'CRC21', 'CRC22', 'CRC23a', 'CRC23b', 'CRC23c', 'CRC24a', 'CRC24b', 'CRC24c', 'CRC25a', 'CRC25b', 'CRC25c', 'CRC26a', 'CRC26b', 'CRC27', 'CRC28', 'CRC29', 'CRC30', 'CRC31']\n"
          ]
        }
      ]
    },
    {
      "cell_type": "code",
      "source": [
        "# concating Ad patient data\n",
        "from tqdm.notebook import tqdm\n",
        "# made function for concating each patient category excel data\n",
        "def concat_dataframes(patient_list: list):\n",
        "    patient_df_list = []\n",
        "    for patient in tqdm(patient_list):\n",
        "        patient_df = pd.read_excel(data_path, sheet_name=patient, header=2)\n",
        "        patient_df['patient_unique_id'] = patient\n",
        "        patient_df_list.append(patient_df)\n",
        "\n",
        "    return pd.concat(patient_df_list)\n",
        "\n",
        "# concating dataframes\n",
        "Ad_final_df = concat_dataframes(Ad_list)\n",
        "SL_final_df =concat_dataframes(SL_list)\n",
        "CRC_final_df = concat_dataframes(CRC_list)"
      ],
      "metadata": {
        "colab": {
          "base_uri": "https://localhost:8080/",
          "height": 113,
          "referenced_widgets": [
            "a33043ee5129483ebb209acd7fcf1c79",
            "64e9d208a32642a8b00c7bf494a3725d",
            "d149f4e2e6714ba5b2bfb0324d78c369",
            "c5fae7ae496f4bd8aef4041a3a70842c",
            "374075f4bff045559647ad6c53d851e3",
            "5fe9bd0480224fb3a78b423a58347bb0",
            "303634a8b08c46c4a28f938900749217",
            "f7f8249103c949f0a5b0650f118e0770",
            "227e53ab6f1a4d39bef0d940e3cae489",
            "d7c72a4454dd47248af9fecf4924c26c",
            "31ff5277bed94d76b15fa05ab65e0cc9",
            "dec712037a514899ad192f2b3e5eae05",
            "d5443b483ca542908dbd6e2f29bd6137",
            "9d6a5df2ea544ab896add7b298972316",
            "7745f9017d944c12aeb15005dc4a9a05",
            "a4e43e86f0944e7e8b64905a1fab4128",
            "a9b70ad56ace41878682134c770f67a9",
            "38f32f16456446f58fc3c63eebd182e5",
            "07aa0d9b529d42a3b38e386c85f7255c",
            "15695d856095412198ab2634c726a7ed",
            "107b3fd5a12148349c4210b3a0331f6c",
            "7c58c5d8a2ac44659b7f9be8037afc3e",
            "ace3eb2fc75a40bcb797b7beea6ee05e",
            "30716b1b57cd44e2a76c6327e8b2abea",
            "6f9b3f4ee8764dfb988ec2bcc5d409f1",
            "91f2f25829c4400c98588bd0e49f7d81",
            "c260d3a5506e4aee963802b593aa267a",
            "89e4c8ceb9c441cdaed975aa326391c8",
            "e895bdcd3b594f8a864f08181ab16bc6",
            "779345ef26e14bc4b2c179128fdd1fc3",
            "69e948c081c34fb7ab58d79d36582b68",
            "6932b56b246d4278886bc0c6865b5601",
            "0194c2ddbaba4868b0cf1f9dadb69fcc"
          ]
        },
        "id": "0fIwngkytkW8",
        "outputId": "c388cee6-d18a-41cf-87fa-817a0011eb2e"
      },
      "execution_count": 62,
      "outputs": [
        {
          "output_type": "display_data",
          "data": {
            "text/plain": [
              "  0%|          | 0/12 [00:00<?, ?it/s]"
            ],
            "application/vnd.jupyter.widget-view+json": {
              "version_major": 2,
              "version_minor": 0,
              "model_id": "a33043ee5129483ebb209acd7fcf1c79"
            }
          },
          "metadata": {}
        },
        {
          "output_type": "display_data",
          "data": {
            "text/plain": [
              "  0%|          | 0/3 [00:00<?, ?it/s]"
            ],
            "application/vnd.jupyter.widget-view+json": {
              "version_major": 2,
              "version_minor": 0,
              "model_id": "dec712037a514899ad192f2b3e5eae05"
            }
          },
          "metadata": {}
        },
        {
          "output_type": "display_data",
          "data": {
            "text/plain": [
              "  0%|          | 0/40 [00:00<?, ?it/s]"
            ],
            "application/vnd.jupyter.widget-view+json": {
              "version_major": 2,
              "version_minor": 0,
              "model_id": "ace3eb2fc75a40bcb797b7beea6ee05e"
            }
          },
          "metadata": {}
        }
      ]
    },
    {
      "cell_type": "code",
      "source": [
        "# check if each dataframe has any column in reduced column list\n",
        "\n",
        "# Ad\n",
        "Ad_all_column_list = []\n",
        "for Ad_patient in Ad_list:\n",
        "    Ad_temp_df = Ad_final_df[Ad_final_df['patient_unique_id'] == Ad_patient]\n",
        "    tmp_list = list(set(Ad_temp_df['Gene_symbole'].unique().tolist()) & set(reduced_column_list))\n",
        "    print(Ad_patient, '--->', tmp_list)\n",
        "\n",
        "    Ad_all_column_list += tmp_list\n",
        "    unique_column_list = set(Ad_all_column_list)\n",
        "print('-'*150)\n",
        "print('what Ad patients have from reduced column list --> ', list(unique_column_list))"
      ],
      "metadata": {
        "colab": {
          "base_uri": "https://localhost:8080/"
        },
        "id": "Nb_itcY945KZ",
        "outputId": "2851bd92-7c99-486a-da4d-d3f96b06e6e2"
      },
      "execution_count": 75,
      "outputs": [
        {
          "output_type": "stream",
          "name": "stdout",
          "text": [
            "Ad1 ---> ['APC']\n",
            "Ad2 ---> ['KRAS', 'APC']\n",
            "Ad3a ---> ['APC']\n",
            "Ad3b ---> ['FBXW7', 'APC']\n",
            "Ad4a ---> ['APC']\n",
            "Ad4b ---> ['CTNNB1', 'APC']\n",
            "Ad5 ---> ['APC']\n",
            "Ad6 ---> ['APC']\n",
            "Ad7 ---> ['APC']\n",
            "Ad8 ---> ['KRAS', 'BRAF', 'APC']\n",
            "Ad9 ---> ['KRAS', 'SOX9', 'APC']\n",
            "Ad10 ---> ['TCF7L2', 'KRAS', 'APC']\n",
            "------------------------------------------------------------------------------------------------------------------------------------------------------\n",
            "what Ad patients have from reduced column list -->  ['SOX9', 'APC', 'FBXW7', 'CTNNB1', 'BRAF', 'KRAS', 'TCF7L2']\n"
          ]
        }
      ]
    },
    {
      "cell_type": "code",
      "source": [
        "# SL\n",
        "SL_all_column_list = []\n",
        "for SL_patient in SL_list:\n",
        "    SL_temp_df = SL_final_df[SL_final_df['patient_unique_id'] == SL_patient]\n",
        "    tmp_list = list(set(SL_temp_df['Gene_symbole'].unique().tolist()) & set(reduced_column_list))\n",
        "    print(SL_patient, '--->', tmp_list)\n",
        "\n",
        "    SL_all_column_list += tmp_list\n",
        "    unique_column_list = set(SL_all_column_list)\n",
        "print('-'*150)\n",
        "print('what Ad patients have from reduced column list --> ', list(unique_column_list))"
      ],
      "metadata": {
        "colab": {
          "base_uri": "https://localhost:8080/"
        },
        "id": "67tLUda15k1X",
        "outputId": "41a4012c-f22d-445f-ecb3-3cd84c35039f"
      },
      "execution_count": 76,
      "outputs": [
        {
          "output_type": "stream",
          "name": "stdout",
          "text": [
            "SL1a ---> ['RNF43', 'BRAF']\n",
            "SL1b ---> ['RNF43', 'BRAF']\n",
            "SL2 ---> ['BRAF']\n",
            "------------------------------------------------------------------------------------------------------------------------------------------------------\n",
            "what Ad patients have from reduced column list -->  ['RNF43', 'BRAF']\n"
          ]
        }
      ]
    },
    {
      "cell_type": "code",
      "source": [
        "len(CRC_list)"
      ],
      "metadata": {
        "colab": {
          "base_uri": "https://localhost:8080/"
        },
        "id": "zBzzIIT59l3M",
        "outputId": "9bc1c11e-09e1-4092-d635-7da07e1d0eab"
      },
      "execution_count": 81,
      "outputs": [
        {
          "output_type": "execute_result",
          "data": {
            "text/plain": [
              "40"
            ]
          },
          "metadata": {},
          "execution_count": 81
        }
      ]
    },
    {
      "cell_type": "code",
      "source": [
        "# CRC\n",
        "CRC_all_column_list = []\n",
        "for CRC_patient in CRC_list:\n",
        "    CRC_temp_df = CRC_final_df[CRC_final_df['patient_unique_id'] == CRC_patient]\n",
        "    tmp_list = list(set(CRC_temp_df['Gene_symbole'].unique().tolist()) & set(reduced_column_list))\n",
        "    print(CRC_patient, '--->', tmp_list)\n",
        "\n",
        "    CRC_all_column_list += tmp_list\n",
        "    unique_column_list = set(CRC_all_column_list)\n",
        "print('-'*150)\n",
        "print('what Ad patients have from reduced column list --> ', list(unique_column_list))"
      ],
      "metadata": {
        "colab": {
          "base_uri": "https://localhost:8080/"
        },
        "id": "zWCwoHSj5uxk",
        "outputId": "a95d6d5b-a41f-4469-a564-dc7b5ef0bb9c"
      },
      "execution_count": 77,
      "outputs": [
        {
          "output_type": "stream",
          "name": "stdout",
          "text": [
            "CRC1a ---> ['TP53', 'BRAF', 'APC']\n",
            "CRC1b ---> ['KRAS', 'CTNNB1', 'APC']\n",
            "CRC2 ---> ['TCF7L2', 'KRAS', 'FBXW7', 'APC']\n",
            "CRC3 ---> ['KRAS', 'NRAS', 'APC']\n",
            "CRC4 ---> ['KRAS', 'APC']\n",
            "CRC5 ---> ['TP53', 'SOX9', 'APC']\n",
            "CRC6 ---> ['TP53', 'APC']\n",
            "CRC7 ---> ['FBXW7', 'APC']\n",
            "CRC8 ---> ['PIK3CA', 'KRAS', 'APC']\n",
            "CRC9 ---> ['TP53', 'FBXW7', 'APC']\n",
            "CRC10 ---> ['APC']\n",
            "CRC11 ---> ['PIK3CA', 'KRAS', 'CTNNB1', 'APC']\n",
            "CRC12 ---> ['SMAD3', 'SMAD1', 'MLH1', 'CTNNB1', 'KRAS', 'TCF7L2']\n",
            "CRC13 ---> ['PIK3CA', 'ACVR2A', 'RNF43', 'BRAF']\n",
            "CRC14 ---> ['APC', 'TP53', 'BRAF', 'KRAS', 'TCF7L2']\n",
            "CRC15 ---> ['ACVR2A', 'FBXW7']\n",
            "CRC16 ---> ['PIK3CA', 'TP53', 'APC']\n",
            "CRC17a ---> ['APC', 'ACVR2A', 'RNF43', 'BRAF', 'SMAD4', 'TCF7L2']\n",
            "CRC17b ---> ['APC', 'TP53', 'ACVR2A', 'RNF43', 'BRAF', 'SMAD4', 'TCF7L2']\n",
            "CRC18 ---> ['PIK3CA', 'RNF43', 'BRAF']\n",
            "CRC19 ---> ['TP53']\n",
            "CRC20 ---> ['TP53', 'KRAS', 'APC']\n",
            "CRC21 ---> ['TCF7L2']\n",
            "CRC22 ---> ['TP53', 'SOX9', 'SMAD4', 'APC']\n",
            "CRC23a ---> ['TP53', 'APC']\n",
            "CRC23b ---> ['TP53', 'APC']\n",
            "CRC23c ---> ['TP53', 'APC']\n",
            "CRC24a ---> ['TP53', 'APC']\n",
            "CRC24b ---> ['TP53', 'APC']\n",
            "CRC24c ---> ['TP53', 'APC']\n",
            "CRC25a ---> ['TP53', 'APC', 'SMAD3']\n",
            "CRC25b ---> ['TP53', 'APC', 'SMAD3']\n",
            "CRC25c ---> ['TP53', 'APC', 'SMAD3']\n",
            "CRC26a ---> ['KRAS', 'FBXW7', 'APC']\n",
            "CRC26b ---> ['KRAS', 'FBXW7', 'APC']\n",
            "CRC27 ---> ['TCF7L2', 'TP53', 'NRAS', 'APC']\n",
            "CRC28 ---> ['TP53', 'APC']\n",
            "CRC29 ---> ['TP53', 'ACVR2A', 'APC']\n",
            "CRC30 ---> ['SMAD4', 'APC']\n",
            "CRC31 ---> ['TP53', 'FBXW7', 'APC']\n",
            "------------------------------------------------------------------------------------------------------------------------------------------------------\n",
            "what Ad patients have from reduced column list -->  ['SOX9', 'APC', 'SMAD3', 'TP53', 'SMAD1', 'MLH1', 'FBXW7', 'ACVR2A', 'CTNNB1', 'BRAF', 'KRAS', 'NRAS', 'TCF7L2', 'PIK3CA', 'RNF43', 'SMAD4']\n"
          ]
        }
      ]
    },
    {
      "cell_type": "code",
      "source": [
        "print('from CRC: ', len(unique_column_list))\n",
        "print('from reduced columns: ', len(reduced_column_list))"
      ],
      "metadata": {
        "colab": {
          "base_uri": "https://localhost:8080/"
        },
        "id": "3fP4-hzo8J9l",
        "outputId": "42ee7954-d55f-4eeb-fb8f-5e02bed7e869"
      },
      "execution_count": 78,
      "outputs": [
        {
          "output_type": "stream",
          "name": "stdout",
          "text": [
            "from CRC:  16\n",
            "from reduced columns:  18\n"
          ]
        }
      ]
    },
    {
      "cell_type": "markdown",
      "source": [
        "### Data Readiness Check"
      ],
      "metadata": {
        "id": "bIgYD-oStK1p"
      }
    },
    {
      "cell_type": "code",
      "source": [
        "# labels not ready yet"
      ],
      "metadata": {
        "id": "O79f59WftMY4"
      },
      "execution_count": null,
      "outputs": []
    }
  ]
}